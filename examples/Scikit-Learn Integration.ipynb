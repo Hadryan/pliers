{
 "cells": [
  {
   "cell_type": "markdown",
   "metadata": {
    "deletable": true,
    "editable": true
   },
   "source": [
    "Scikit-Learn Integration\n",
    "==================\n",
    "Example using `pliers` as a node in a typical scikit-learn pipeline. Example code taken from scikit-learn's [website](http://scikit-learn.org/stable/modules/generated/sklearn.pipeline.Pipeline.html)"
   ]
  },
  {
   "cell_type": "code",
   "execution_count": 18,
   "metadata": {
    "collapsed": false
   },
   "outputs": [
    {
     "name": "stdout",
     "output_type": "stream",
     "text": [
      "Number of images found: 4\n"
     ]
    }
   ],
   "source": [
    "# Data setup\n",
    "from glob import glob\n",
    "from pliers.tests.utils import get_test_data_path\n",
    "from os.path import join\n",
    "import numpy as np\n",
    "\n",
    "X = glob(join(get_test_data_path(), 'image', '*.jpg'))\n",
    "# Just use random classes since this is just an example\n",
    "y = np.random.randint(0, 3, len(X))\n",
    "print('Number of images found: %d' % len(X))"
   ]
  },
  {
   "cell_type": "code",
   "execution_count": 12,
   "metadata": {
    "collapsed": true,
    "deletable": true,
    "editable": true
   },
   "outputs": [],
   "source": [
    "# Pliers setup\n",
    "from pliers.graph import Graph\n",
    "from pliers.scikit import PliersTransformer\n",
    "g = Graph({'roots':[{'transformer':'BrightnessExtractor'},\n",
    "                    {'transformer':'SharpnessExtractor'},\n",
    "                    {'transformer':'VibranceExtractor'}]})"
   ]
  },
  {
   "cell_type": "code",
   "execution_count": 19,
   "metadata": {
    "collapsed": true,
    "deletable": true,
    "editable": true
   },
   "outputs": [],
   "source": [
    "# Sklearn setup\n",
    "from sklearn import svm\n",
    "from sklearn.feature_selection import SelectKBest\n",
    "from sklearn.feature_selection import f_regression\n",
    "from sklearn.pipeline import Pipeline\n",
    "\n",
    "# ANOVA SVM-C Pipeline\n",
    "pliers_transformer = PliersTransformer(g)\n",
    "anova_filter = SelectKBest(f_regression, k=2)\n",
    "clf = svm.SVC(kernel='linear')\n",
    "pipeline = Pipeline([('pliers', pliers_transformer), ('anova', anova_filter), ('svc', clf)])"
   ]
  },
  {
   "cell_type": "code",
   "execution_count": 20,
   "metadata": {
    "collapsed": false,
    "deletable": true,
    "editable": true
   },
   "outputs": [
    {
     "name": "stderr",
     "output_type": "stream",
     "text": [
      "Stim: 4it [00:00, 33.86it/s]\n",
      "Stim: 4it [00:00, 43.70it/s]\n",
      "Stim: 4it [00:00, 22.60it/s]\n",
      "Stim: 4it [00:00, 36.86it/s]\n",
      "Stim: 4it [00:00, 39.83it/s]\n",
      "Stim: 4it [00:00, 20.65it/s]\n",
      "Stim: 4it [00:00, 34.34it/s]\n",
      "Stim: 4it [00:00, 30.44it/s]\n",
      "Stim: 4it [00:00, 18.68it/s]\n"
     ]
    },
    {
     "data": {
      "text/plain": [
       "1.0"
      ]
     },
     "execution_count": 20,
     "metadata": {},
     "output_type": "execute_result"
    }
   ],
   "source": [
    "# Fit and get training accuracy\n",
    "pipeline.set_params(svc__C=.1).fit(X, y)\n",
    "prediction = pipeline.predict(X)\n",
    "pipeline.score(X, y)"
   ]
  },
  {
   "cell_type": "code",
   "execution_count": 21,
   "metadata": {
    "collapsed": false,
    "deletable": true,
    "editable": true
   },
   "outputs": [
    {
     "data": {
      "text/plain": [
       "array([ True, False,  True], dtype=bool)"
      ]
     },
     "execution_count": 21,
     "metadata": {},
     "output_type": "execute_result"
    }
   ],
   "source": [
    "# Getting the selected features chosen by anova_filter\n",
    "pipeline.named_steps['anova'].get_support()"
   ]
  },
  {
   "cell_type": "code",
   "execution_count": null,
   "metadata": {
    "collapsed": true
   },
   "outputs": [],
   "source": []
  }
 ],
 "metadata": {
  "kernelspec": {
   "display_name": "Python 2",
   "language": "python",
   "name": "python2"
  },
  "language_info": {
   "codemirror_mode": {
    "name": "ipython",
    "version": 2
   },
   "file_extension": ".py",
   "mimetype": "text/x-python",
   "name": "python",
   "nbconvert_exporter": "python",
   "pygments_lexer": "ipython2",
   "version": "2.7.13+"
  }
 },
 "nbformat": 4,
 "nbformat_minor": 2
}
